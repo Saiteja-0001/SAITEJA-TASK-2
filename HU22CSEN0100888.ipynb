{
  "nbformat": 4,
  "nbformat_minor": 0,
  "metadata": {
    "colab": {
      "provenance": [],
      "authorship_tag": "ABX9TyOoutxOzSkqz7fFwzrELyXs",
      "include_colab_link": true
    },
    "kernelspec": {
      "name": "python3",
      "display_name": "Python 3"
    },
    "language_info": {
      "name": "python"
    }
  },
  "cells": [
    {
      "cell_type": "markdown",
      "metadata": {
        "id": "view-in-github",
        "colab_type": "text"
      },
      "source": [
        "<a href=\"https://colab.research.google.com/github/Saiteja-0001/SAITEJA-TASK-2/blob/main/HU22CSEN0100888.ipynb\" target=\"_parent\"><img src=\"https://colab.research.google.com/assets/colab-badge.svg\" alt=\"Open In Colab\"/></a>"
      ]
    },
    {
      "cell_type": "code",
      "execution_count": 2,
      "metadata": {
        "colab": {
          "base_uri": "https://localhost:8080/"
        },
        "id": "6KYpymM1L_IG",
        "outputId": "01676cae-4b7e-4052-af99-40646c21ad36"
      },
      "outputs": [
        {
          "output_type": "stream",
          "name": "stdout",
          "text": [
            "Enter your name: sunny\n",
            "Enter your age: 20\n",
            "Hello sunny, age 20\n",
            "File not found.\n",
            "File not found.\n"
          ]
        }
      ],
      "source": [
        "name = \"John\"\n",
        "age = 25\n",
        "user_name = input(\"Enter your name: \")\n",
        "user_age = input(\"Enter your age: \")\n",
        "print(f\"Hello {user_name}, age {user_age}\")\n",
        "\n",
        "try:\n",
        "    with open('single_input.txt', 'r') as file:\n",
        "        print(f\"File input: {file.readline().strip()}\")\n",
        "except FileNotFoundError:\n",
        "    print(\"File not found.\")\n",
        "\n",
        "try:\n",
        "    with open('multiple_inputs.txt', 'r') as file:\n",
        "        print(\"File inputs:\")\n",
        "        for line in file:\n",
        "            print(line.strip())\n",
        "except FileNotFoundError:\n",
        "    print(\"File not found.\")\n",
        "\n"
      ]
    },
    {
      "cell_type": "code",
      "source": [
        "user_name = input(\"Enter your name: \")\n",
        "user_age = input(\"Enter your age: \")\n",
        "\n",
        "print(f\"Hello {user_name}, you are {user_age} years old!\")\n"
      ],
      "metadata": {
        "colab": {
          "base_uri": "https://localhost:8080/"
        },
        "id": "zpriciKtNLB-",
        "outputId": "88c052ba-bcb5-45cc-b0c1-dac5090fa91f"
      },
      "execution_count": 3,
      "outputs": [
        {
          "output_type": "stream",
          "name": "stdout",
          "text": [
            "Enter your name: sunny\n",
            "Enter your age: 20\n",
            "Hello sunny, you are 20 years old!\n"
          ]
        }
      ]
    },
    {
      "cell_type": "code",
      "source": [
        "# Read a single input from a file\n",
        "filename = '/content/sunny.txt'  # File containing a single input\n",
        "\n",
        "try:\n",
        "    with open(filename, 'r') as file:  # Open the file in read mode\n",
        "        single_input = file.readline().strip()  # Read the first line and remove any extra whitespace\n",
        "    print(f\"The input from the file is: {single_input}\")\n",
        "except FileNotFoundError:\n",
        "    print(f\"Error: The file {filename} was not found.\")\n"
      ],
      "metadata": {
        "colab": {
          "base_uri": "https://localhost:8080/"
        },
        "id": "v_Vtf_K5PNPw",
        "outputId": "eabe5723-119f-4464-aee3-12bee5029267"
      },
      "execution_count": 9,
      "outputs": [
        {
          "output_type": "stream",
          "name": "stdout",
          "text": [
            "The input from the file is: saiteja\n"
          ]
        }
      ]
    },
    {
      "cell_type": "markdown",
      "source": [],
      "metadata": {
        "id": "fYPkCZ0nSgPB"
      }
    },
    {
      "cell_type": "code",
      "source": [
        "# Read multiple inputs from a file and process them\n",
        "filename = '/content/MULTIPLE.txt'  # File containing multiple inputs\n",
        "\n",
        "try:\n",
        "    with open(filename, 'r') as file:\n",
        "        # Read all lines from the file\n",
        "        lines = file.readlines()\n",
        "\n",
        "    # Process each line\n",
        "    for line in lines:\n",
        "        # Split the line into name, age, and city\n",
        "        name, age, city = line.strip().split(',')\n",
        "\n",
        "        # Display the processed data\n",
        "        print(f\"Name: {name}, Age: {age}, City: {city}\")\n",
        "\n",
        "except FileNotFoundError:\n",
        "    print(f\"Error: The file {filename} was not found.\")"
      ],
      "metadata": {
        "colab": {
          "base_uri": "https://localhost:8080/"
        },
        "id": "TXI-6MgaTWKG",
        "outputId": "9115b02e-315f-43a8-eef5-8ef91803e10f"
      },
      "execution_count": 16,
      "outputs": [
        {
          "output_type": "stream",
          "name": "stdout",
          "text": [
            "Name: karthik, Age: 25, City: New York\n",
            "Name: sunny, Age: 30, City: Los Angeles\n",
            "Name: udith, Age: 35, City: Chicago\n"
          ]
        }
      ]
    },
    {
      "cell_type": "code",
      "source": [
        "# Write multiple numbers to a file\n",
        "with open('multiple_inputs.txt', 'w') as file:\n",
        "    file.write(\"10\\n20\\n30\")  # Write multiple numbers, each on a new line\n",
        "\n",
        "print(\"multiple_inputs.txt created!\")  # Confirmation message"
      ],
      "metadata": {
        "colab": {
          "base_uri": "https://localhost:8080/"
        },
        "id": "QNddYdbFTxHE",
        "outputId": "02043294-7470-4798-f389-b204612ab588"
      },
      "execution_count": 14,
      "outputs": [
        {
          "output_type": "stream",
          "name": "stdout",
          "text": [
            "multiple_inputs.txt created!\n"
          ]
        }
      ]
    },
    {
      "cell_type": "code",
      "source": [
        "# Read From File (Multiple Inputs) Example\n",
        "# Program: Read multiple numbers from a file and calculate their sum\n",
        "\n",
        "try:\n",
        "    with open('multiple_inputs.txt', 'r') as file:\n",
        "        numbers = file.readlines()  # Read all lines from the file\n",
        "        numbers = [int(num.strip()) for num in numbers]  # Convert each line to an integer\n",
        "\n",
        "    result = sum(numbers)  # Calculate the sum of the numbers\n",
        "    print(f\"Numbers from file: {numbers}, Sum: {result}\")  # Output the numbers and their sum\n",
        "\n",
        "except FileNotFoundError:\n",
        "    print(\"File not found. Please create a file named 'multiple_inputs.txt'.\")\n",
        "except ValueError:\n",
        "    print(\"File content must contain valid integers.\")"
      ],
      "metadata": {
        "colab": {
          "base_uri": "https://localhost:8080/"
        },
        "id": "u6cFCQ5ZXukn",
        "outputId": "8f1c8dbe-7c98-4acd-8e29-ab9abd784c71"
      },
      "execution_count": 17,
      "outputs": [
        {
          "output_type": "stream",
          "name": "stdout",
          "text": [
            "Numbers from file: [10, 20, 30], Sum: 60\n"
          ]
        }
      ]
    },
    {
      "cell_type": "code",
      "source": [],
      "metadata": {
        "id": "--0oy_DWYBGO"
      },
      "execution_count": null,
      "outputs": []
    }
  ]
}